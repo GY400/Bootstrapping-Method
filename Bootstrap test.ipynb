{
 "cells": [
  {
   "cell_type": "code",
   "execution_count": 7,
   "metadata": {
    "collapsed": true
   },
   "outputs": [],
   "source": [
    "import numpy as np\n",
    "import plotly.plotly as py\n",
    "import plotly.graph_objs as go\n",
    "import plotly \n",
    "plotly.tools.set_credentials_file(username='GY400', api_key='IqLG54Iong7FLeX17uh6')"
   ]
  },
  {
   "cell_type": "code",
   "execution_count": 27,
   "metadata": {
    "collapsed": true
   },
   "outputs": [],
   "source": [
    "# M = 50, B = 2500. Sample statistics is the z-score\n",
    "def bootstrap(X, B=2500):\n",
    "    z_list = []\n",
    "    M = len(X)\n",
    "    prob = [1.0/M]*M\n",
    "    for i in range(B):\n",
    "        discrete_sample = np.random.choice(X, M, prob)\n",
    "        z_list.append((np.mean(discrete_sample)-np.mean(X))/(np.std(X)/np.sqrt(M)))\n",
    "        \n",
    "    data = go.Histogram(x=z_list)\n",
    "    return data\n",
    "    \n",
    "\n",
    "def random_sample(M=50):\n",
    "    X = np.random.normal(2.0, 1.0, M)\n",
    "    return X\n",
    "\n",
    "\n",
    "        \n"
   ]
  },
  {
   "cell_type": "code",
   "execution_count": 28,
   "metadata": {},
   "outputs": [
    {
     "data": {
      "text/html": [
       "<iframe id=\"igraph\" scrolling=\"no\" style=\"border:none;\" seamless=\"seamless\" src=\"https://plot.ly/~GY400/40.embed\" height=\"525px\" width=\"100%\"></iframe>"
      ],
      "text/plain": [
       "<plotly.tools.PlotlyDisplay object>"
      ]
     },
     "execution_count": 28,
     "metadata": {},
     "output_type": "execute_result"
    }
   ],
   "source": [
    "X = random_sample()\n",
    "data = bootstrap(X)\n",
    "\n",
    "Y = np.random.normal(size=2500)\n",
    "data_cmp = go.Histogram(x=Y)\n",
    "py.iplot([data, data_cmp], filename='bootstrap distribution')\n",
    "\n"
   ]
  }
 ],
 "metadata": {
  "kernelspec": {
   "display_name": "Python 2",
   "language": "python",
   "name": "python2"
  },
  "language_info": {
   "codemirror_mode": {
    "name": "ipython",
    "version": 2
   },
   "file_extension": ".py",
   "mimetype": "text/x-python",
   "name": "python",
   "nbconvert_exporter": "python",
   "pygments_lexer": "ipython2",
   "version": "2.7.13"
  }
 },
 "nbformat": 4,
 "nbformat_minor": 2
}
